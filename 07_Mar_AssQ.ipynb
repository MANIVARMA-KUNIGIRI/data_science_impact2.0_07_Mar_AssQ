{
  "nbformat": 4,
  "nbformat_minor": 0,
  "metadata": {
    "colab": {
      "provenance": []
    },
    "kernelspec": {
      "name": "python3",
      "display_name": "Python 3"
    },
    "language_info": {
      "name": "python"
    }
  },
  "cells": [
    {
      "cell_type": "markdown",
      "source": [
        "Q1. What are the three measures of central tendency?"
      ],
      "metadata": {
        "id": "H7hZNV_x-ldg"
      }
    },
    {
      "cell_type": "markdown",
      "source": [
        "1. Mean\n",
        "2. Median\n",
        "3. Mode"
      ],
      "metadata": {
        "id": "MGjeHMcI-rFW"
      }
    },
    {
      "cell_type": "markdown",
      "source": [
        "Q2. What is the difference between the mean, median, and mode? How are they used to measure the central tendency of a dataset?\n"
      ],
      "metadata": {
        "id": "drinf7re-1tl"
      }
    },
    {
      "cell_type": "markdown",
      "source": [
        "**Mean, Median, and Mode:**\n",
        "\n",
        "1. **Mean:**\n",
        "   - **Definition:** The mean, also known as the average, is the sum of all values in a dataset divided by the number of values.\n",
        "   - **Calculation:** Mean = (Sum of all values) / (Number of values)\n",
        "   - **Use:** The mean represents the arithmetic average of the dataset. It is sensitive to extreme values (outliers) and provides a balanced measure of central tendency.\n",
        "\n",
        "2. **Median:**\n",
        "   - **Definition:** The median is the middle value of a dataset when it is sorted in ascending or descending order. If there is an odd number of observations, the median is the middle number. If there is an even number of observations, the median is the average of the two middle numbers.\n",
        "   - **Calculation:** To find the median, sort the data and find the middle value(s).\n",
        "   - **Use:** The median is less sensitive to outliers than the mean. It provides a better representation of the central value, especially when the data has extreme values.\n",
        "\n",
        "3. **Mode:**\n",
        "   - **Definition:** The mode is the value(s) that appear most frequently in a dataset.\n",
        "   - **Calculation:** Identify the number(s) that occur with the highest frequency in the dataset.\n",
        "   - **Use:** The mode indicates the most common value(s) in the dataset. It is particularly useful for categorical or discrete data.\n",
        "\n",
        "**How They Measure Central Tendency:**\n",
        "\n",
        "- **Mean:** The mean provides the average value of the dataset. It balances all the values, making it sensitive to extreme values. It's useful when you want to know the typical value in a dataset.\n",
        "  \n",
        "- **Median:** The median represents the middle value of the dataset. It's especially useful when the data has outliers or when you're interested in the middle position of the data. Median is less affected by extreme values, making it a robust measure of central tendency.\n",
        "  \n",
        "- **Mode:** The mode represents the most frequently occurring value(s) in the dataset. It's valuable for identifying common patterns or trends in the data, especially in categorical datasets."
      ],
      "metadata": {
        "id": "RdxLMydj-40I"
      }
    },
    {
      "cell_type": "markdown",
      "source": [
        "Q3. Measure the three measures of central tendency for the given height data:\n",
        "\n",
        "[178,177,176,177,178.2,178,175,179,180,175,178.9,176.2,177,172.5,178,176.5]"
      ],
      "metadata": {
        "id": "mAvQc3Fg_mPN"
      }
    },
    {
      "cell_type": "code",
      "source": [
        "import numpy as np\n",
        "from scipy import stats"
      ],
      "metadata": {
        "id": "-C4Rkhh6AfB5"
      },
      "execution_count": null,
      "outputs": []
    },
    {
      "cell_type": "code",
      "execution_count": null,
      "metadata": {
        "colab": {
          "base_uri": "https://localhost:8080/"
        },
        "id": "b15hty2N937j",
        "outputId": "e5b8fc13-0403-499c-c924-8018cc5ac368"
      },
      "outputs": [
        {
          "output_type": "stream",
          "name": "stdout",
          "text": [
            "Mean is:  177.01875\n",
            "Median is:  177.0\n",
            "Mode is:  ModeResult(mode=177.0, count=3)\n"
          ]
        }
      ],
      "source": [
        "arr = np.array([178,177,176,177,178.2,178,175,179,180,175,178.9,176.2,177,172.5,178,176.5])\n",
        "print(\"Mean is: \", np.mean(arr))\n",
        "print(\"Median is: \", np.median(arr))\n",
        "print(\"Mode is: \", stats.mode(arr))"
      ]
    },
    {
      "cell_type": "markdown",
      "source": [
        "Q5. How are measures of dispersion such as range, variance, and standard deviation used to describe the spread of a dataset? Provide an example.\n"
      ],
      "metadata": {
        "id": "H3sq89K9BckP"
      }
    },
    {
      "cell_type": "markdown",
      "source": [
        "Measures of dispersion, such as range, variance, and standard deviation, are used to quantify how spread out the values in a dataset are. They provide valuable information about the variability and distribution of the data points. Here's how these measures are used to describe the spread of a dataset:\n",
        "\n",
        "1. **Range:**\n",
        "   - **Definition:** Range is the difference between the maximum and minimum values in a dataset.\n",
        "   - **Use:** Range provides a simple measure of the spread by indicating the interval between the smallest and largest values. However, it is sensitive to outliers and may not reflect the overall distribution well in the presence of extreme values.\n",
        "\n",
        "   **Example:** Consider a dataset of exam scores for a class: {60, 70, 75, 80, 95}. The range would be 95 (maximum) - 60 (minimum) = 35.\n",
        "\n",
        "2. **Variance:**\n",
        "   - **Definition:** Variance measures how each number in the dataset varies from the mean. It is the average of the squared differences between each number and the mean of the dataset.\n",
        "   - **Use:** Variance quantifies the overall spread of the data points. A larger variance indicates greater variability in the dataset.\n",
        "\n",
        "   **Example:** Using the same dataset {60, 70, 75, 80, 95}, the mean is (60 + 70 + 75 + 80 + 95) / 5 = 76. Variance = [(60-76)^2 + (70-76)^2 + (75-76)^2 + (80-76)^2 + (95-76)^2] / 5 = 110.8.\n",
        "\n",
        "3. **Standard Deviation:**\n",
        "   - **Definition:** Standard deviation is the square root of the variance. It represents the average deviation of each data point from the mean.\n",
        "   - **Use:** Standard deviation provides a more interpretable measure of the spread. It indicates how much, on average, the data points deviate from the mean.\n",
        "\n",
        "   **Example:** Using the same dataset and variance, the standard deviation is √(110.8) ≈ 10.54.\n",
        "\n",
        "In this example, the range gives the overall span of the scores. The variance quantifies the average squared deviation from the mean, showing how the scores differ from the average. The standard deviation, being the square root of the variance, is a measure in the same unit as the data points, providing a more intuitive understanding of the spread."
      ],
      "metadata": {
        "id": "ex6UPel7DwIj"
      }
    },
    {
      "cell_type": "markdown",
      "source": [
        "Q6. What is a Venn diagram?"
      ],
      "metadata": {
        "id": "fm-1NXGHEStj"
      }
    },
    {
      "cell_type": "markdown",
      "source": [
        "A Venn diagram is a graphical representation of the relationships between different sets of data. It uses overlapping circles (or other shapes) to illustrate how various sets have elements in common. Venn diagrams are widely used in mathematics, logic, statistics, computer science, and various other fields to visualize the intersection, union, difference, and complement of different sets.\n",
        "\n",
        "In a Venn diagram:\n",
        "\n",
        "- Each circle (or shape) represents a set.\n",
        "- The overlapping parts of the circles represent the elements that are common to those sets.\n",
        "- The non-overlapping parts represent elements unique to each set.\n",
        "\n",
        "Venn diagrams can be used to compare and contrast different groups of items, show the logical relationships between different sets, and help in problem-solving and decision-making.\n",
        "\n",
        "Here's an example of a basic two-set Venn diagram:\n",
        "\n",
        "```\n",
        "   Set A        Set B\n",
        "  _______      _______\n",
        " /       \\    /       \\\n",
        "|   A ∩ B  |  |   B - A|\n",
        " \\_______/    \\_______/\n",
        "```\n",
        "\n",
        "In this diagram:\n",
        "- The left circle represents Set A.\n",
        "- The right circle represents Set B.\n",
        "- The overlapping region represents the intersection of Set A and Set B (elements common to both sets).\n",
        "- The area inside Set A but outside the intersection represents elements unique to Set A.\n",
        "- The area inside Set B but outside the intersection represents elements unique to Set B.\n",
        "\n",
        "Venn diagrams can become more complex with the inclusion of more sets and additional overlaps to represent more intricate relationships between different groups of items."
      ],
      "metadata": {
        "id": "6pe-DGrKEUEo"
      }
    },
    {
      "cell_type": "markdown",
      "source": [
        "Q7. For the two given sets A = (2,3,4,5,6,7) & B = (0,2,6,8,10). Find:\n",
        "\n",
        "(i) A intersection B : {2, 6}\n",
        "\n",
        "(ii) A ⋃ B : {0, 2, 3, 4, 5, 6, 7, 8, 10}"
      ],
      "metadata": {
        "id": "Gt1eQotKEo51"
      }
    },
    {
      "cell_type": "markdown",
      "source": [
        "Q8. What do you understand about skewness in data?"
      ],
      "metadata": {
        "id": "LdyIppUXHExF"
      }
    },
    {
      "cell_type": "markdown",
      "source": [
        "Skewness is a statistical measure that describes the asymmetry of the probability distribution of a real-valued random variable about its mean in a dataset. In simpler terms, it indicates the extent and direction of the departure of the data from a symmetrical distribution.\n",
        "\n",
        "There are three types of skewness:\n",
        "\n",
        "1. **Negative Skewness (Left Skewness):** If the left tail (the smaller values) of the distribution is longer or fatter than the right tail (the larger values), the data is negatively skewed. In a negatively skewed distribution, the mean is typically less than the median, and the majority of the data points are concentrated on the right side of the distribution.\n",
        "\n",
        "   ![Negative Skewness](https://upload.wikimedia.org/wikipedia/commons/thumb/f/f8/Negative_and_positive_skew_diagrams_%28English%29.svg/500px-Negative_and_positive_skew_diagrams_%28English%29.svg.png)\n",
        "\n",
        "2. **Positive Skewness (Right Skewness):** If the right tail (the larger values) of the distribution is longer or fatter than the left tail (the smaller values), the data is positively skewed. In a positively skewed distribution, the mean is typically greater than the median, and the majority of the data points are concentrated on the left side of the distribution.\n",
        "\n",
        "3. **Zero Skewness:** If the distribution is perfectly symmetrical, it has zero skewness. In this case, the mean, median, and mode are all equal, and the data is evenly distributed around the mean.\n",
        "\n",
        "Skewness is an important indicator because it can affect the interpretation of the data. For instance:\n",
        "\n",
        "- In negatively skewed data, the mean is usually less than the median, indicating that extreme values are pulling the mean in the direction of the skew. This suggests that the majority of the data points are lower than the mean.\n",
        "  \n",
        "- In positively skewed data, the mean is usually greater than the median, suggesting that the majority of the data points are higher than the mean.\n",
        "\n",
        "Understanding the skewness of a dataset is crucial for making accurate interpretations, especially in fields like finance, economics, and data analysis where the shape of the data distribution can influence decision-making processes."
      ],
      "metadata": {
        "id": "GqyK3TdGHIiR"
      }
    },
    {
      "cell_type": "markdown",
      "source": [
        "Q9. If a data is right skewed then what will be the position of median with respect to mean?"
      ],
      "metadata": {
        "id": "6yWJRcGLHjVW"
      }
    },
    {
      "cell_type": "markdown",
      "source": [
        "Median < Mean"
      ],
      "metadata": {
        "id": "w1vjhGRHIYUe"
      }
    },
    {
      "cell_type": "markdown",
      "source": [
        "Q10. Explain the difference between covariance and correlation. How are these measures used in statistical analysis?"
      ],
      "metadata": {
        "id": "Qz8Gbq3hIde6"
      }
    },
    {
      "cell_type": "markdown",
      "source": [
        "**Covariance and correlation** are both measures used to describe the relationship and dependency between two variables in a dataset. However, they differ in terms of their scale and interpretation:\n",
        "\n",
        "1. **Covariance:**\n",
        "   - **Definition:** Covariance measures the direction of the linear relationship between two variables. It indicates whether an increase in one variable leads to an increase or decrease in another variable.\n",
        "   - **Calculation:** Cov(X, Y) = Σ [(Xᵢ - μₓ) * (Yᵢ - μᵧ)] / N, where Xᵢ and Yᵢ are individual data points, μₓ and μᵧ are the means of X and Y respectively, and N is the number of data points.\n",
        "   - **Interpretation:**\n",
        "     - Positive covariance: Indicates a direct (positive) relationship between the variables. When one variable increases, the other tends to increase as well.\n",
        "     - Negative covariance: Indicates an inverse (negative) relationship between the variables. When one variable increases, the other tends to decrease.\n",
        "     - Covariance close to zero: Indicates a weak or no linear relationship between the variables.\n",
        "\n",
        "   **Usage:** Covariance is used to understand the direction of the relationship between two variables. However, it doesn't provide information about the strength or scale of the relationship, making it less interpretable.\n",
        "\n",
        "2. **Correlation:**\n",
        "   - **Definition:** Correlation measures both the strength and direction of the linear relationship between two variables. It is a normalized version of covariance, which scales the value between -1 and 1.\n",
        "   - **Calculation:** Correlation(X, Y) = Cov(X, Y) / (σₓ * σᵧ), where σₓ and σᵧ are the standard deviations of X and Y respectively.\n",
        "   - **Interpretation:**\n",
        "     - Correlation coefficient close to +1: Indicates a strong positive correlation. When one variable increases, the other variable tends to increase proportionally.\n",
        "     - Correlation coefficient close to -1: Indicates a strong negative correlation. When one variable increases, the other variable tends to decrease proportionally.\n",
        "     - Correlation coefficient close to 0: Indicates a weak or no linear relationship between the variables.\n",
        "\n",
        "   **Usage:** Correlation is used to understand the strength and direction of the linear relationship between two variables. It provides a standardized measure, making it easier to compare relationships across different datasets.\n",
        "\n",
        "In statistical analysis:\n",
        "- **Covariance** helps identify the direction of the relationship between variables, but it doesn't quantify the strength of the relationship. It's used in various statistical calculations and modeling techniques, especially in finance and portfolio analysis.\n",
        "\n",
        "- **Correlation**, on the other hand, provides a standardized measure that indicates both the strength and direction of the relationship. It's widely used in fields such as economics, biology, social sciences, and machine learning. It's especially useful when comparing relationships in datasets with different scales or units of measurement."
      ],
      "metadata": {
        "id": "nOHSzbdjIe5p"
      }
    },
    {
      "cell_type": "markdown",
      "source": [
        "Q11. What is the formula for calculating the sample mean? Provide an example calculation for a dataset.\n"
      ],
      "metadata": {
        "id": "rQJd6nJqItDZ"
      }
    },
    {
      "cell_type": "markdown",
      "source": [
        "The sample mean, often denoted as \\( \\bar{x} \\) (pronounced as \"x-bar\"), is the average value of a set of sample data points. To calculate the sample mean, you sum up all the values in the dataset and divide the sum by the total number of data points in the sample.\n",
        "\n",
        "**Formula for Sample Mean:**\n",
        "\\[ \\bar{x} = \\frac{\\sum_{i=1}^{n} x_i}{n} \\]\n",
        "\n",
        "Where:\n",
        "- \\( \\bar{x} \\) is the sample mean.\n",
        "- \\( x_i \\) represents each individual data point in the sample.\n",
        "- \\( n \\) is the total number of data points in the sample.\n",
        "\n",
        "**Example Calculation:**\n",
        "Consider the following dataset: \\( \\{ 10, 15, 20, 25, 30 \\} \\)\n",
        "\n",
        "To calculate the sample mean for this dataset, follow these steps:\n",
        "\n",
        "1. Add up all the values in the dataset:\n",
        "   \\[ 10 + 15 + 20 + 25 + 30 = 100 \\]\n",
        "\n",
        "2. Determine the total number of data points in the sample, which is 5 in this case.\n",
        "\n",
        "3. Use the formula for the sample mean:\n",
        "   \\[ \\bar{x} = \\frac{100}{5} = 20 \\]\n",
        "\n",
        "So, the sample mean for the given dataset \\( \\{ 10, 15, 20, 25, 30 \\} \\) is 20. This means that, on average, the values in the sample are centered around 20."
      ],
      "metadata": {
        "id": "WE6FoL7uIuiS"
      }
    },
    {
      "cell_type": "markdown",
      "source": [
        "Q12. For a normal distribution data what is the relationship between its measure of central tendency?\n"
      ],
      "metadata": {
        "id": "ODgYF4lcJVLP"
      }
    },
    {
      "cell_type": "markdown",
      "source": [
        "Mean = Median = Mode"
      ],
      "metadata": {
        "id": "M4_QOvHLJWvo"
      }
    },
    {
      "cell_type": "markdown",
      "source": [
        "Q13. How is covariance different from correlation?\n"
      ],
      "metadata": {
        "id": "dW8wv_BuJdsu"
      }
    },
    {
      "cell_type": "markdown",
      "source": [
        "**Covariance** and **correlation** are both measures used to describe the relationship between two variables in a dataset. While they are related, they have key differences:\n",
        "\n",
        "1. **Definition:**\n",
        "   - **Covariance:** Covariance measures the direction of the linear relationship between two variables. It indicates whether an increase in one variable leads to an increase or decrease in another variable.\n",
        "   - **Correlation:** Correlation measures both the strength and direction of the linear relationship between two variables. It is a normalized version of covariance, which scales the value between -1 and 1.\n",
        "\n",
        "2. **Scale:**\n",
        "   - **Covariance:** Covariance can take any value, positive, negative, or zero. The magnitude of covariance is not standardized and depends on the units of the variables.\n",
        "   - **Correlation:** Correlation is standardized, ranging from -1 to 1. A correlation of +1 indicates a perfect positive linear relationship, -1 indicates a perfect negative linear relationship, and 0 indicates no linear relationship.\n",
        "\n",
        "3. **Interpretation:**\n",
        "   - **Covariance:** The sign of covariance (+ or -) indicates the direction of the relationship. Positive covariance means the variables tend to increase or decrease together, while negative covariance means one variable tends to increase when the other decreases. However, the magnitude of covariance alone does not provide a clear interpretation of the strength of the relationship.\n",
        "   - **Correlation:** The correlation coefficient provides information about both the strength and direction of the linear relationship. A correlation close to +1 or -1 indicates a strong linear relationship, while a correlation close to 0 indicates a weak or no linear relationship.\n",
        "\n",
        "4. **Normalization:**\n",
        "   - **Covariance:** Covariance is not normalized and can vary widely based on the scale of the variables.\n",
        "   - **Correlation:** Correlation is normalized, making it easier to compare relationships between different pairs of variables.\n",
        "\n",
        "In summary, while covariance and correlation both measure the relationship between two variables, correlation provides a standardized measure that is easier to interpret and compare. It not only indicates the direction but also the strength of the linear relationship, making it a widely used measure in statistical analysis."
      ],
      "metadata": {
        "id": "yqOTsc2eJg_-"
      }
    },
    {
      "cell_type": "markdown",
      "source": [
        "Q14. How do outliers affect measures of central tendency and dispersion? Provide an example."
      ],
      "metadata": {
        "id": "z0D4FOUkJyrd"
      }
    },
    {
      "cell_type": "markdown",
      "source": [
        "**Outliers** are data points that are significantly different from most of the other data in a dataset. They can strongly influence measures of central tendency and dispersion, leading to inaccurate or misleading interpretations of the data. Here's how outliers affect different measures:\n",
        "\n",
        "### Measures of Central Tendency (Mean, Median, Mode):\n",
        "\n",
        "1. **Mean:**\n",
        "   - **Effect of Outliers:** Outliers can heavily influence the mean because the mean is sensitive to extreme values. A single very large or very small outlier can significantly shift the mean in the direction of the outlier.\n",
        "   - **Example:** Consider the dataset: {10, 15, 20, 25, 1000}. The mean without the outlier is 18 (sum of values divided by 4), but with the outlier, it becomes 214 (sum of values divided by 5).\n",
        "\n",
        "2. **Median:**\n",
        "   - **Effect of Outliers:** The median is less affected by outliers than the mean. Outliers do not impact the median as much because it only considers the middle value(s) and not the actual values themselves.\n",
        "   - **Example:** In the dataset {10, 15, 20, 25, 1000}, the median is 20. The outlier 1000 does not affect the median value.\n",
        "\n",
        "3. **Mode:**\n",
        "   - **Effect of Outliers:** Outliers do not directly impact the mode. The mode represents the most frequently occurring value(s) in the dataset and is not influenced by extreme values.\n",
        "   - **Example:** In the dataset {10, 15, 20, 25, 1000}, the mode is not affected by the outlier 1000.\n",
        "\n",
        "### Measures of Dispersion (Range, Variance, Standard Deviation):\n",
        "\n",
        "1. **Range:**\n",
        "   - **Effect of Outliers:** Outliers can significantly expand the range of the data, making the range a poor measure of dispersion in the presence of extreme values.\n",
        "   - **Example:** In the dataset {10, 15, 20, 25, 1000}, the range is 990 (1000 - 10) due to the outlier, indicating a much larger spread than the majority of the data.\n",
        "\n",
        "2. **Variance and Standard Deviation:**\n",
        "   - **Effect of Outliers:** Outliers increase the variance and standard deviation because they introduce larger differences between individual data points and the mean. These differences are squared in the calculation of variance and standard deviation, amplifying the impact of outliers.\n",
        "   - **Example:** Using the dataset {10, 15, 20, 25, 1000}, the variance and standard deviation are much higher due to the squared differences between each value and the mean, influenced heavily by the outlier 1000.\n",
        "\n",
        "In summary, outliers can skew the measures of central tendency, especially the mean, and inflate measures of dispersion, such as variance and standard deviation. It is important to identify and handle outliers appropriately to ensure accurate and meaningful analysis of the data."
      ],
      "metadata": {
        "id": "8STGm5mCJzvU"
      }
    },
    {
      "cell_type": "code",
      "source": [],
      "metadata": {
        "id": "DzD5vJjmAQnV"
      },
      "execution_count": null,
      "outputs": []
    }
  ]
}